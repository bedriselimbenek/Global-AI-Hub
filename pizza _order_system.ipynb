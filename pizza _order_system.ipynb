{
 "cells": [
  {
   "cell_type": "code",
   "execution_count": 2,
   "id": "c2f02c15",
   "metadata": {},
   "outputs": [],
   "source": [
    "import csv\n",
    "import datetime"
   ]
  },
  {
   "cell_type": "code",
   "execution_count": 14,
   "id": "66ec0fd9",
   "metadata": {},
   "outputs": [],
   "source": [
    "with open(\"Menu.txt\", \"w\") as menu:\n",
    "    menu.write(\"\"\"\n",
    "*Lütfen Pizzanızı Seçiniz:\n",
    "1: Klasik Pizza     85 TL\n",
    "2: Margarita        115 TL\n",
    "3: Türk Pizza       105 TL\n",
    "4: Sade Pizza       70 TL\n",
    "5: New York Pizza   145 TL\n",
    "6: Kantin Pizza     55 TL\n",
    "* Seçmek İstediğiniz Ekstra Malzemeler:\n",
    "11: Zeytin          3.25 TL\n",
    "12: Mantar          5.00 TL\n",
    "13: Peynir          7.50 TL\n",
    "14: Et              18.50 TL\n",
    "15: Soğan           2.50 TL\n",
    "16: Mısır           4.75 TL\n",
    "17: Mozzarella      15.75 TL\n",
    "18: Parmesan        18.75 TL\n",
    "19: Tulum           13.25 TL\n",
    "20: Rokfor          12.25 TL\n",
    "* Seçiminiz İçin Teşekkür Ederiz!\"\"\"\n",
    ")"
   ]
  },
  {
   "cell_type": "code",
   "execution_count": 3,
   "id": "6be70049",
   "metadata": {},
   "outputs": [],
   "source": [
    "class Decorator():\n",
    "    def __init__(self,description,price):\n",
    "        self.description=description\n",
    "        self.price=price\n",
    "\n",
    "    def price(self):\n",
    "        return f\"The amount you will pay: {self.price}\"  \n",
    "\n",
    "    def description(self):\n",
    "        return f\"{self.description}\"  "
   ]
  },
  {
   "cell_type": "code",
   "execution_count": 4,
   "id": "00b58195",
   "metadata": {},
   "outputs": [],
   "source": [
    "# the pizza superclass from the Decorator class.\n",
    "\n",
    "class Pizza(Decorator):\n",
    "    def __init__(self,name,price,description,type_of_sauce):\n",
    "        self.name=name\n",
    "        self.price=price\n",
    "        self.description=description\n",
    "        self.type_of_sauce=type_of_sauce"
   ]
  },
  {
   "cell_type": "code",
   "execution_count": 5,
   "id": "be725763",
   "metadata": {},
   "outputs": [],
   "source": [
    "# subclasses of pizza\n",
    "\n",
    "class ClassicPizza(Pizza):\n",
    "    def __init__(self, name, price, description, type_of_sauce):\n",
    "        super().__init__(name, price, description, type_of_sauce)\n",
    "\n",
    "class Margherita(Pizza):\n",
    "    def __init__(self, name, price, description, type_of_sauce):\n",
    "        super().__init__(name, price, description, type_of_sauce)\n",
    "\n",
    "class TurkishPizza(Pizza):\n",
    "    def __init__(self, name, price, description, type_of_sauce):\n",
    "        super().__init__(name, price, description, type_of_sauce)\n",
    "    \n",
    "class Plain(Pizza):\n",
    "    def __init__(self, name, price, description, type_of_sauce):\n",
    "        super().__init__(name, price, description, type_of_sauce);"
   ]
  },
  {
   "cell_type": "code",
   "execution_count": 6,
   "id": "6df0f9d3",
   "metadata": {},
   "outputs": [],
   "source": [
    "# the sauce superclass from the Decorator class.\n",
    "\n",
    "class Sauce(Decorator):\n",
    "    def __init__(self,name,price,description):\n",
    "        self.name=name\n",
    "        self.price=price\n",
    "        self.description=description"
   ]
  },
  {
   "cell_type": "code",
   "execution_count": 7,
   "id": "a082b428",
   "metadata": {},
   "outputs": [],
   "source": [
    "# subclasses of sauce\n",
    "\n",
    "class Olive(Sauce):\n",
    "    def __init__(self, name, price, description):\n",
    "        super().__init__(name, price, description)    \n",
    "\n",
    "class Mushroom(Sauce):\n",
    "    def __init__(self, name, price, description):\n",
    "        super().__init__(name, price, description)        \n",
    "\n",
    "class GoatCheese(Sauce):\n",
    "    def __init__(self, name, price, description):\n",
    "        super().__init__(name, price, description)        \n",
    "\n",
    "class Meat(Sauce):\n",
    "    def __init__(self, name, price, description):\n",
    "        super().__init__(name, price, description)       \n",
    "\n",
    "class Onion(Sauce):\n",
    "    def __init__(self, name, price, description):\n",
    "        super().__init__(name, price, description)        \n",
    "\n",
    "class Corn(Sauce):\n",
    "    def __init__(self, name, price, description):\n",
    "        super().__init__(name, price, description) "
   ]
  },
  {
   "cell_type": "code",
   "execution_count": 9,
   "id": "848b79e9",
   "metadata": {},
   "outputs": [],
   "source": [
    "# objects of sauce \n",
    "\n",
    "olive = Olive(\"Olive\", 7, \"Sauce : Olive\")\n",
    "mushroom = Mushroom(\"Mushroom\", 12, \"Sauce : Mushroom\")\n",
    "goat_cheese = GoatCheese(\"Goat Cheeese\", 25, \"Sauce : Goat Cheese\")\n",
    "meat = Meat(\"Meat\", 60, \"Sauce : Meat\")\n",
    "onion = Onion(\"Onion\", 9, \"Sauce : Onion\")\n",
    "corn = Corn(\"Corn\",18,\"Sauce : Corn\")"
   ]
  },
  {
   "cell_type": "code",
   "execution_count": 13,
   "id": "cfa04f21",
   "metadata": {},
   "outputs": [
    {
     "name": "stdout",
     "output_type": "stream",
     "text": [
      "* Please select a pizza base:\n",
      "\n",
      " 1: Classic Pizza\n",
      " 2: Margherita Pizza\n",
      " 3: Turkish Pizza\n",
      " 4: Plain Pizza\n",
      "\n",
      " *  Sauce of your choice:\n",
      "\n",
      " 11: Olive\n",
      " 12: Mushroom\n",
      " 13: Goat Cheese\n",
      " 14: Meat\n",
      " 15: Onion\n",
      " 16: Corn \n",
      "Please select the pizza you want to order:1\n",
      "Please select the sauce you want to choose:15\n"
     ]
    }
   ],
   "source": [
    "# get customer information\n",
    "\n",
    "class Customer():\n",
    "    def __init__(self,name,surname,order_description):\n",
    "        self.name=name\n",
    "        self.surname=surname\n",
    "        self.order_description=order_description\n",
    "\n",
    "class Customer_Payment(Customer):\n",
    "    def __init__(self, name, surname, order_description,card_no,card_pass):\n",
    "        super().__init__(name, surname, order_description)\n",
    "        self.card_no=card_no\n",
    "        self.card_pass=card_pass\n",
    "\n",
    "def main():\n",
    "    print(\"* Please select a pizza base:\\n\\n 1: Classic Pizza\\n 2: Margherita Pizza\\n 3: Turkish Pizza\\n 4: Plain Pizza\\n\\n *  Sauce of your choice:\\n\\n 11: Olive\\n 12: Mushroom\\n 13: Goat Cheese\\n 14: Meat\\n 15: Onion\\n 16: Corn \")\n",
    "    pizza_selection=int(input(\"Please select the pizza you want to order:\"))\n",
    "    sauce_selection=int(input(\"Please select the sauce you want to choose:\"))\n",
    "    if 0<pizza_selection<5 and 10<sauce_selection<17:\n",
    "        if pizza_selection == 1:\n",
    "            classic_pizza = ClassicPizza(\"Classic Pizza\",110,\"Pizza Type : Classic Pizza\",sauce_selection)\n",
    "            total_price = classic_pizza.price\n",
    "        elif pizza_selection == 2:\n",
    "            margherita_pizza = Margherita(\"Margherita Pizza\",140,\"Pizza Type : Margherita Pizza\",sauce_selection)\n",
    "            total_price = margherita_pizza.price\n",
    "        elif pizza_selection == 3:\n",
    "            turkish_pizza = TurkishPizza(\"Turkish Pizza\",170,\"Pizza Type : Turkish Pizza\",sauce_selection)\n",
    "            total_price = turkish_pizza.price\n",
    "        elif pizza_selection == 4:\n",
    "            plain_pizza = Plain(\"Plain Pizza\",120,\"Pizza Type : Plain Pizza\",sauce_selection)\n",
    "            total_price = plain_pizza.price\n",
    "\n",
    "    else:\n",
    "        return f\"Hatalı seçim yaptınız.\"\n",
    "    \n",
    "main()"
   ]
  },
  {
   "cell_type": "code",
   "execution_count": null,
   "id": "6a49c3eb",
   "metadata": {},
   "outputs": [],
   "source": []
  }
 ],
 "metadata": {
  "kernelspec": {
   "display_name": "Python 3 (ipykernel)",
   "language": "python",
   "name": "python3"
  },
  "language_info": {
   "codemirror_mode": {
    "name": "ipython",
    "version": 3
   },
   "file_extension": ".py",
   "mimetype": "text/x-python",
   "name": "python",
   "nbconvert_exporter": "python",
   "pygments_lexer": "ipython3",
   "version": "3.9.12"
  },
  "varInspector": {
   "cols": {
    "lenName": 16,
    "lenType": 16,
    "lenVar": 40
   },
   "kernels_config": {
    "python": {
     "delete_cmd_postfix": "",
     "delete_cmd_prefix": "del ",
     "library": "var_list.py",
     "varRefreshCmd": "print(var_dic_list())"
    },
    "r": {
     "delete_cmd_postfix": ") ",
     "delete_cmd_prefix": "rm(",
     "library": "var_list.r",
     "varRefreshCmd": "cat(var_dic_list()) "
    }
   },
   "types_to_exclude": [
    "module",
    "function",
    "builtin_function_or_method",
    "instance",
    "_Feature"
   ],
   "window_display": false
  }
 },
 "nbformat": 4,
 "nbformat_minor": 5
}
